{
 "cells": [
  {
   "cell_type": "markdown",
   "metadata": {},
   "source": [
    "# Homework1"
   ]
  },
  {
   "cell_type": "markdown",
   "metadata": {},
   "source": [
    "## Q2"
   ]
  },
  {
   "cell_type": "code",
   "execution_count": 4,
   "metadata": {},
   "outputs": [
    {
     "name": "stdout",
     "output_type": "stream",
     "text": [
      "5\n",
      "35\n"
     ]
    }
   ],
   "source": [
    "a = [5, 10, 15, 25, 35]\n",
    "def find(x):\n",
    "    print(x[0])\n",
    "    print(x[len(x) - 1])\n",
    "    return\n",
    "find(a)"
   ]
  },
  {
   "cell_type": "markdown",
   "metadata": {},
   "source": [
    "## Q3"
   ]
  },
  {
   "cell_type": "code",
   "execution_count": 10,
   "metadata": {},
   "outputs": [
    {
     "name": "stdout",
     "output_type": "stream",
     "text": [
      "[4, 64, 100]\n"
     ]
    }
   ],
   "source": [
    "a = [1, 4, 9, 64, 81, 100]\n",
    "def even(x):\n",
    "    cur = []\n",
    "    for i in a:\n",
    "        if i%2 == 0:\n",
    "            cur.append(i)\n",
    "        else:\n",
    "            continue\n",
    "    return cur\n",
    "print(even(a))\n",
    "        \n",
    "        "
   ]
  },
  {
   "cell_type": "markdown",
   "metadata": {},
   "source": [
    "## Q4"
   ]
  },
  {
   "cell_type": "code",
   "execution_count": 13,
   "metadata": {},
   "outputs": [
    {
     "name": "stdout",
     "output_type": "stream",
     "text": [
      "输入年份:2000\n",
      "True\n"
     ]
    }
   ],
   "source": [
    "y = input('输入年份:')\n",
    "year = int(y)\n",
    "def leapYear(x):\n",
    "    if x % 4 == 0:\n",
    "        return True\n",
    "    else:\n",
    "        return False\n",
    "print(leapYear(year))\n"
   ]
  },
  {
   "cell_type": "markdown",
   "metadata": {},
   "source": [
    "## Q5"
   ]
  },
  {
   "cell_type": "code",
   "execution_count": 2,
   "metadata": {},
   "outputs": [
    {
     "name": "stdout",
     "output_type": "stream",
     "text": [
      "请输入您想说的话：I love you\n",
      "you love I "
     ]
    }
   ],
   "source": [
    "s = input('请输入您想说的话：')\n",
    "def rev(x):\n",
    "    a = x.split(' ')\n",
    "    a.reverse()\n",
    "    for i in a:\n",
    "        print(i, end = ' ')\n",
    "    return\n",
    "rev(s)\n"
   ]
  },
  {
   "cell_type": "markdown",
   "metadata": {
    "collapsed": true
   },
   "source": [
    "## Q6"
   ]
  },
  {
   "cell_type": "code",
   "execution_count": 17,
   "metadata": {},
   "outputs": [
    {
     "name": "stdout",
     "output_type": "stream",
     "text": [
      "请输入array，请用空格间隔数字：7 1 6 4 5 3\n",
      "请输入今天是第几天（例如1,2,3...）：2\n",
      "5\n"
     ]
    }
   ],
   "source": [
    "s = input('请输入array，请用空格间隔数字：')\n",
    "a = s.split(' ')\n",
    "a = list(map(int, a))\n",
    "s = input('请输入今天是第几天（例如1,2,3...）：')\n",
    "d = int(s)\n",
    "def maxP(array, day):\n",
    "    low = array[day - 1] \n",
    "    \n",
    "    for i in array:\n",
    "        if array.index(i) > day - 1:\n",
    "            if i < low:\n",
    "                low = i\n",
    "        else:\n",
    "            continue\n",
    "    upper = low \n",
    "    for j in array:\n",
    "        if array.index(j) > array.index(low):\n",
    "            if j >= upper:\n",
    "                upper = j\n",
    "        else:\n",
    "            continue\n",
    "    profit = upper - low\n",
    "    return profit\n",
    "print(maxP(a, d))\n",
    "    "
   ]
  },
  {
   "cell_type": "markdown",
   "metadata": {
    "collapsed": true
   },
   "source": [
    "## Q7"
   ]
  },
  {
   "cell_type": "code",
   "execution_count": 38,
   "metadata": {},
   "outputs": [
    {
     "name": "stdout",
     "output_type": "stream",
     "text": [
      "请输入一串从小到大排列的数字：002400\n",
      "[0, 0, 2, 4, 0, 0]\n",
      "请输入您想查找的数字：6\n",
      "False\n"
     ]
    }
   ],
   "source": [
    "s = input('请输入一串从小到大排列的数字：')\n",
    "c = []\n",
    "for digit in s:\n",
    "    c.append (int(digit))\n",
    "print(c)\n",
    "s = input('请输入您想查找的数字：')\n",
    "s = int(s)\n",
    "def contains(array, number):\n",
    "    count = 0\n",
    "    for i in array:\n",
    "        if i == number:\n",
    "            count = count+1\n",
    "    if count == 0:\n",
    "        return False\n",
    "    else:\n",
    "        return True\n",
    "print(contains(c, s))\n",
    "    \n"
   ]
  },
  {
   "cell_type": "markdown",
   "metadata": {},
   "source": [
    "## Q8"
   ]
  },
  {
   "cell_type": "code",
   "execution_count": null,
   "metadata": {},
   "outputs": [],
   "source": []
  },
  {
   "cell_type": "code",
   "execution_count": null,
   "metadata": {
    "collapsed": true
   },
   "outputs": [],
   "source": []
  }
 ],
 "metadata": {
  "kernelspec": {
   "display_name": "Python 3",
   "language": "python",
   "name": "python3"
  },
  "language_info": {
   "codemirror_mode": {
    "name": "ipython",
    "version": 3
   },
   "file_extension": ".py",
   "mimetype": "text/x-python",
   "name": "python",
   "nbconvert_exporter": "python",
   "pygments_lexer": "ipython3",
   "version": "3.6.3"
  }
 },
 "nbformat": 4,
 "nbformat_minor": 2
}
